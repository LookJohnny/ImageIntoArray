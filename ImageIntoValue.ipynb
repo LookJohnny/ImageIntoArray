{
 "cells": [
  {
   "cell_type": "code",
   "execution_count": 5,
   "outputs": [],
   "source": [
    "from keras.preprocessing.image import load_img\n",
    "import warnings\n",
    "\n",
    "# load the image via load_img\n",
    "# function\n",
    "img = load_img('sample.png')\n",
    "\n",
    "#details about the image printed below\n",
    "print(type(img))\n",
    "print(img.format)\n",
    "print(img.mode)\n",
    "print(img.size)"
   ],
   "metadata": {
    "collapsed": false,
    "pycharm": {
     "name": "#%%\n"
    }
   }
  },
  {
   "cell_type": "code",
   "execution_count": 8,
   "metadata": {
    "collapsed": true,
    "pycharm": {
     "name": "#%%\n"
    }
   },
   "outputs": [
    {
     "name": "stdout",
     "output_type": "stream",
     "text": [
      "<class 'PIL.PngImagePlugin.PngImageFile'>\n",
      "PNG\n",
      "RGB\n",
      "(400, 200)\n",
      "Image is converted and NumPy array information :\n",
      "type: float32\n",
      "shape: (200, 400, 3)\n",
      "converting Numpy array into image: <class 'PIL.Image.Image'>\n"
     ]
    }
   ],
   "source": [
    "from tensorflow.keras.utils import img_to_array\n",
    "from tensorflow.keras.utils import array_to_img\n",
    "from tensorflow.keras.utils import load_img\n",
    "\n",
    "#details about the image printed below\n",
    "img = load_img('Sample.png')\n",
    "print(type(img))\n",
    "print(img.format)\n",
    "print(img.mode)\n",
    "print(img.size)\n",
    "\n",
    "# convert the given image into numpy array\n",
    "img_numpy_array = img_to_array(img)\n",
    "print(\"Image is converted and NumPy array information :\")\n",
    "print(\"type:\", img_numpy_array.dtype)\n",
    "print(\"shape:\",img_numpy_array.shape)\n",
    "\n",
    "# convert numpy array back into image\n",
    "img_pil_from_numpy_array = array_to_img(img_numpy_array)\n",
    "print(\"converting Numpy array into image:\",\n",
    "    type(img_pil_from_numpy_array))"
   ]
  },
  {
   "cell_type": "code",
   "execution_count": null,
   "outputs": [],
   "source": [],
   "metadata": {
    "collapsed": false,
    "pycharm": {
     "name": "#%%\n"
    }
   }
  }
 ],
 "metadata": {
  "kernelspec": {
   "display_name": "Python 3",
   "language": "python",
   "name": "python3"
  },
  "language_info": {
   "codemirror_mode": {
    "name": "ipython",
    "version": 2
   },
   "file_extension": ".py",
   "mimetype": "text/x-python",
   "name": "python",
   "nbconvert_exporter": "python",
   "pygments_lexer": "ipython2",
   "version": "2.7.6"
  }
 },
 "nbformat": 4,
 "nbformat_minor": 0
}